{
 "cells": [
  {
   "cell_type": "code",
   "execution_count": 1,
   "id": "bfa5a518-2559-4146-8371-b868f96f25f3",
   "metadata": {},
   "outputs": [
    {
     "name": "stdout",
     "output_type": "stream",
     "text": [
      "1\n",
      "1\n",
      "2\n",
      "3\n",
      "5\n",
      "8\n",
      "13\n",
      "21\n",
      "34\n",
      "55\n",
      "89\n"
     ]
    }
   ],
   "source": [
    "x = int(input(\"what number would you like to start with (>=1)? \"))\n",
    "y = x\n",
    "i = 10\n",
    "print(x)\n",
    "for n in range(i):\n",
    "    x_old = x\n",
    "    print(x)\n",
    "    x = x+y\n",
    "    y = x_old"
   ]
  },
  {
   "cell_type": "code",
   "execution_count": 4,
   "id": "b6e6c1ac-76ab-455f-bc80-df03d1dbb140",
   "metadata": {},
   "outputs": [
    {
     "name": "stdout",
     "output_type": "stream",
     "text": [
      "Fibonacci sequence: [1, 2, 3, 5, 8, 13, 21, 34, 55, 89]\n"
     ]
    }
   ],
   "source": [
    "def generate_fibonacci(start_num, count):\n",
    "    \"\"\"\n",
    "    Generate a specified number of Fibonacci numbers starting from a given number.\n",
    "\n",
    "    Parameters:\n",
    "    start_num (int): The starting number for the Fibonacci sequence (>= 1).\n",
    "    count (int): The number of Fibonacci numbers to generate.\n",
    "\n",
    "    Returns:\n",
    "    list: A list containing the generated Fibonacci numbers.\n",
    "    \"\"\"\n",
    "    # Initialize the first two Fibonacci numbers\n",
    "    x = start_num\n",
    "    y = start_num\n",
    "    fibonacci_sequence = [x]\n",
    "\n",
    "    # Generate Fibonacci numbers\n",
    "    for _ in range(count - 1):\n",
    "        x, y = x + y, x\n",
    "        fibonacci_sequence.append(x)\n",
    "\n",
    "    return fibonacci_sequence\n",
    "\n",
    "# Input from the user\n",
    "start_num = int(input(\"What number would you like to start with (>=1)? \"))\n",
    "count = 10  # You can change this to any number of Fibonacci numbers you want to generate\n",
    "\n",
    "# Generate and print the Fibonacci sequence\n",
    "fibonacci_sequence = generate_fibonacci(start_num, count)\n",
    "print(\"Fibonacci sequence:\", fibonacci_sequence)"
   ]
  }
 ],
 "metadata": {
  "kernelspec": {
   "display_name": "Python 3 (ipykernel)",
   "language": "python",
   "name": "python3"
  },
  "language_info": {
   "codemirror_mode": {
    "name": "ipython",
    "version": 3
   },
   "file_extension": ".py",
   "mimetype": "text/x-python",
   "name": "python",
   "nbconvert_exporter": "python",
   "pygments_lexer": "ipython3",
   "version": "3.12.4"
  }
 },
 "nbformat": 4,
 "nbformat_minor": 5
}
