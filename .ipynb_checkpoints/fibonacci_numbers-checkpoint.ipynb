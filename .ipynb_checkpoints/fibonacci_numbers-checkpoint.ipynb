{
 "cells": [
  {
   "cell_type": "code",
   "execution_count": null,
   "id": "bfa5a518-2559-4146-8371-b868f96f25f3",
   "metadata": {},
   "outputs": [],
   "source": [
    "x = int(input(\"what number would you like to start with (>=1)? \"))\n",
    "y = x\n",
    "i = 10\n",
    "print(x)\n",
    "for n in range(i):\n",
    "    x_old = x\n",
    "    print(x)\n",
    "    x = x+y\n",
    "    y = x_old"
   ]
  },
  {
   "cell_type": "code",
   "execution_count": null,
   "id": "b6e6c1ac-76ab-455f-bc80-df03d1dbb140",
   "metadata": {},
   "outputs": [],
   "source": []
  }
 ],
 "metadata": {
  "kernelspec": {
   "display_name": "Python 3 (ipykernel)",
   "language": "python",
   "name": "python3"
  },
  "language_info": {
   "codemirror_mode": {
    "name": "ipython",
    "version": 3
   },
   "file_extension": ".py",
   "mimetype": "text/x-python",
   "name": "python",
   "nbconvert_exporter": "python",
   "pygments_lexer": "ipython3",
   "version": "3.12.4"
  }
 },
 "nbformat": 4,
 "nbformat_minor": 5
}
